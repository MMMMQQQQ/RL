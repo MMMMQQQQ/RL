{
  "nbformat": 4,
  "nbformat_minor": 0,
  "metadata": {
    "colab": {
      "name": "single_label_multiclassification.ipynb",
      "provenance": [],
      "authorship_tag": "ABX9TyOVOGt7booPIq3krdPFYMR8",
      "include_colab_link": true
    },
    "kernelspec": {
      "name": "python3",
      "display_name": "Python 3"
    }
  },
  "cells": [
    {
      "cell_type": "markdown",
      "metadata": {
        "id": "view-in-github",
        "colab_type": "text"
      },
      "source": [
        "<a href=\"https://colab.research.google.com/github/MMMMQQQQ/RL/blob/single_label_multiclassification/single_label_multiclassification.ipynb\" target=\"_parent\"><img src=\"https://colab.research.google.com/assets/colab-badge.svg\" alt=\"Open In Colab\"/></a>"
      ]
    },
    {
      "cell_type": "markdown",
      "metadata": {
        "id": "hiQFhp22lKn-",
        "colab_type": "text"
      },
      "source": [
        "1. Loading the reuters dataset\n"
      ]
    },
    {
      "cell_type": "code",
      "metadata": {
        "id": "-qm9BBVffuLW",
        "colab_type": "code",
        "colab": {
          "base_uri": "https://localhost:8080/",
          "height": 34
        },
        "outputId": "88837842-6dfd-44b9-a439-03b74284e80b"
      },
      "source": [
        "import numpy as np\n",
        "from keras.datasets import reuters\n",
        "\n",
        "(train_data, train_labels), (test_data, test_labels)=reuters.load_data(num_words=10000)\n",
        "\n",
        "print(len(train_data))"
      ],
      "execution_count": 2,
      "outputs": [
        {
          "output_type": "stream",
          "text": [
            "8982\n"
          ],
          "name": "stdout"
        }
      ]
    },
    {
      "cell_type": "markdown",
      "metadata": {
        "id": "AmHNqQp5lSky",
        "colab_type": "text"
      },
      "source": [
        "2. encoding the data"
      ]
    },
    {
      "cell_type": "code",
      "metadata": {
        "id": "mGMCzohslRh_",
        "colab_type": "code",
        "colab": {}
      },
      "source": [
        "import numpy as np\n",
        "\n",
        "from keras.utils.np_utils import to_categorical\n",
        "\n",
        "def vectorize_sequences(sequences, dimension=10_000):\n",
        "  results=np.zeros((len(sequences),dimension))\n",
        "  for i, sequence in enumerate(sequences):\n",
        "    results[i, sequence]=1\n",
        "  return results\n",
        "\n",
        "x_train=vectorize_sequences(train_data)\n",
        "x_test=vectorize_sequences(test_data)\n",
        "\n",
        "one_hot_train_labels=to_categorical(train_labels)\n",
        "one_hot_test_labels=to_categorical(test_labels)"
      ],
      "execution_count": 0,
      "outputs": []
    },
    {
      "cell_type": "markdown",
      "metadata": {
        "id": "LiUxjMKdqeWO",
        "colab_type": "text"
      },
      "source": [
        "3. model definition\n"
      ]
    },
    {
      "cell_type": "code",
      "metadata": {
        "id": "bhboIQ-nqW-K",
        "colab_type": "code",
        "colab": {
          "base_uri": "https://localhost:8080/",
          "height": 140
        },
        "outputId": "bbe669d5-71c2-40fd-94de-293f94e8fde6"
      },
      "source": [
        "from keras import models\n",
        "from keras import layers\n",
        "\n",
        "model=models.Sequential()\n",
        "model.add(layers.Dense(64, activation='relu', input_shape=(10_000,)))\n",
        "model.add(layers.Dense(64, activation='relu'))\n",
        "model.add(layers.Dense(46, activation='softmax'))\n"
      ],
      "execution_count": 9,
      "outputs": [
        {
          "output_type": "stream",
          "text": [
            "WARNING:tensorflow:From /usr/local/lib/python3.6/dist-packages/keras/backend/tensorflow_backend.py:66: The name tf.get_default_graph is deprecated. Please use tf.compat.v1.get_default_graph instead.\n",
            "\n",
            "WARNING:tensorflow:From /usr/local/lib/python3.6/dist-packages/keras/backend/tensorflow_backend.py:541: The name tf.placeholder is deprecated. Please use tf.compat.v1.placeholder instead.\n",
            "\n",
            "WARNING:tensorflow:From /usr/local/lib/python3.6/dist-packages/keras/backend/tensorflow_backend.py:4432: The name tf.random_uniform is deprecated. Please use tf.random.uniform instead.\n",
            "\n"
          ],
          "name": "stdout"
        }
      ]
    },
    {
      "cell_type": "markdown",
      "metadata": {
        "id": "qSW_X-aRrClm",
        "colab_type": "text"
      },
      "source": [
        "4. compiling the model"
      ]
    },
    {
      "cell_type": "code",
      "metadata": {
        "id": "QpU80cqgrAlD",
        "colab_type": "code",
        "colab": {
          "base_uri": "https://localhost:8080/",
          "height": 86
        },
        "outputId": "185d6266-bca2-4ac6-9993-72d71725696d"
      },
      "source": [
        "model.compile(optimizer='rmsprop',\n",
        "              loss='categorical_crossentropy',\n",
        "              metrics=['accuracy'])\n"
      ],
      "execution_count": 10,
      "outputs": [
        {
          "output_type": "stream",
          "text": [
            "WARNING:tensorflow:From /usr/local/lib/python3.6/dist-packages/keras/optimizers.py:793: The name tf.train.Optimizer is deprecated. Please use tf.compat.v1.train.Optimizer instead.\n",
            "\n",
            "WARNING:tensorflow:From /usr/local/lib/python3.6/dist-packages/keras/backend/tensorflow_backend.py:3576: The name tf.log is deprecated. Please use tf.math.log instead.\n",
            "\n"
          ],
          "name": "stdout"
        }
      ]
    },
    {
      "cell_type": "markdown",
      "metadata": {
        "id": "HIPJloi9rS80",
        "colab_type": "text"
      },
      "source": [
        "5. setting aside a validation set"
      ]
    },
    {
      "cell_type": "code",
      "metadata": {
        "id": "abJ6W6HUrRBu",
        "colab_type": "code",
        "colab": {}
      },
      "source": [
        "x_val=x_train[:1_000]\n",
        "partial_x_train=x_train[1_000:]\n",
        "\n",
        "y_val=one_hot_train_labels[:1_000]\n",
        "partial_y_train=one_hot_train_labels[1_000:]\n"
      ],
      "execution_count": 0,
      "outputs": []
    },
    {
      "cell_type": "markdown",
      "metadata": {
        "id": "NCAgLYyHro_5",
        "colab_type": "text"
      },
      "source": [
        "training the model"
      ]
    },
    {
      "cell_type": "code",
      "metadata": {
        "id": "Vgj7sMVhrngt",
        "colab_type": "code",
        "colab": {
          "base_uri": "https://localhost:8080/",
          "height": 1000
        },
        "outputId": "9a97c30d-93ca-47e9-e2b2-0511530b54a1"
      },
      "source": [
        "history=model.fit(partial_x_train,\n",
        "                  partial_y_train,\n",
        "                  epochs=20,\n",
        "                  batch_size=512,\n",
        "                  validation_data=(x_val, y_val))"
      ],
      "execution_count": 12,
      "outputs": [
        {
          "output_type": "stream",
          "text": [
            "WARNING:tensorflow:From /usr/local/lib/python3.6/dist-packages/tensorflow_core/python/ops/math_grad.py:1424: where (from tensorflow.python.ops.array_ops) is deprecated and will be removed in a future version.\n",
            "Instructions for updating:\n",
            "Use tf.where in 2.0, which has the same broadcast rule as np.where\n",
            "WARNING:tensorflow:From /usr/local/lib/python3.6/dist-packages/keras/backend/tensorflow_backend.py:1033: The name tf.assign_add is deprecated. Please use tf.compat.v1.assign_add instead.\n",
            "\n",
            "WARNING:tensorflow:From /usr/local/lib/python3.6/dist-packages/keras/backend/tensorflow_backend.py:1020: The name tf.assign is deprecated. Please use tf.compat.v1.assign instead.\n",
            "\n",
            "WARNING:tensorflow:From /usr/local/lib/python3.6/dist-packages/keras/backend/tensorflow_backend.py:3005: The name tf.Session is deprecated. Please use tf.compat.v1.Session instead.\n",
            "\n",
            "Train on 7982 samples, validate on 1000 samples\n",
            "Epoch 1/20\n",
            "WARNING:tensorflow:From /usr/local/lib/python3.6/dist-packages/keras/backend/tensorflow_backend.py:190: The name tf.get_default_session is deprecated. Please use tf.compat.v1.get_default_session instead.\n",
            "\n",
            "WARNING:tensorflow:From /usr/local/lib/python3.6/dist-packages/keras/backend/tensorflow_backend.py:197: The name tf.ConfigProto is deprecated. Please use tf.compat.v1.ConfigProto instead.\n",
            "\n",
            "WARNING:tensorflow:From /usr/local/lib/python3.6/dist-packages/keras/backend/tensorflow_backend.py:207: The name tf.global_variables is deprecated. Please use tf.compat.v1.global_variables instead.\n",
            "\n",
            "WARNING:tensorflow:From /usr/local/lib/python3.6/dist-packages/keras/backend/tensorflow_backend.py:216: The name tf.is_variable_initialized is deprecated. Please use tf.compat.v1.is_variable_initialized instead.\n",
            "\n",
            "WARNING:tensorflow:From /usr/local/lib/python3.6/dist-packages/keras/backend/tensorflow_backend.py:223: The name tf.variables_initializer is deprecated. Please use tf.compat.v1.variables_initializer instead.\n",
            "\n",
            "7982/7982 [==============================] - 2s 215us/step - loss: 2.6246 - acc: 0.4847 - val_loss: 1.7366 - val_acc: 0.6610\n",
            "Epoch 2/20\n",
            "7982/7982 [==============================] - 1s 123us/step - loss: 1.4189 - acc: 0.7202 - val_loss: 1.3032 - val_acc: 0.7220\n",
            "Epoch 3/20\n",
            "7982/7982 [==============================] - 1s 124us/step - loss: 1.0449 - acc: 0.7808 - val_loss: 1.1229 - val_acc: 0.7650\n",
            "Epoch 4/20\n",
            "7982/7982 [==============================] - 1s 123us/step - loss: 0.8197 - acc: 0.8275 - val_loss: 1.0273 - val_acc: 0.7820\n",
            "Epoch 5/20\n",
            "7982/7982 [==============================] - 1s 123us/step - loss: 0.6513 - acc: 0.8637 - val_loss: 0.9890 - val_acc: 0.7920\n",
            "Epoch 6/20\n",
            "7982/7982 [==============================] - 1s 124us/step - loss: 0.5270 - acc: 0.8895 - val_loss: 0.9238 - val_acc: 0.8120\n",
            "Epoch 7/20\n",
            "7982/7982 [==============================] - 1s 123us/step - loss: 0.4278 - acc: 0.9102 - val_loss: 0.9023 - val_acc: 0.8170\n",
            "Epoch 8/20\n",
            "7982/7982 [==============================] - 1s 124us/step - loss: 0.3468 - acc: 0.9283 - val_loss: 0.9236 - val_acc: 0.8060\n",
            "Epoch 9/20\n",
            "7982/7982 [==============================] - 1s 122us/step - loss: 0.2907 - acc: 0.9381 - val_loss: 0.9253 - val_acc: 0.8110\n",
            "Epoch 10/20\n",
            "7982/7982 [==============================] - 1s 122us/step - loss: 0.2466 - acc: 0.9450 - val_loss: 0.9796 - val_acc: 0.7920\n",
            "Epoch 11/20\n",
            "7982/7982 [==============================] - 1s 127us/step - loss: 0.2112 - acc: 0.9484 - val_loss: 0.9193 - val_acc: 0.8130\n",
            "Epoch 12/20\n",
            "7982/7982 [==============================] - 1s 123us/step - loss: 0.1863 - acc: 0.9520 - val_loss: 0.9611 - val_acc: 0.8110\n",
            "Epoch 13/20\n",
            "7982/7982 [==============================] - 1s 124us/step - loss: 0.1679 - acc: 0.9531 - val_loss: 0.9730 - val_acc: 0.8110\n",
            "Epoch 14/20\n",
            "7982/7982 [==============================] - 1s 121us/step - loss: 0.1549 - acc: 0.9554 - val_loss: 0.9680 - val_acc: 0.8140\n",
            "Epoch 15/20\n",
            "7982/7982 [==============================] - 1s 123us/step - loss: 0.1443 - acc: 0.9563 - val_loss: 0.9844 - val_acc: 0.8110\n",
            "Epoch 16/20\n",
            "7982/7982 [==============================] - 1s 122us/step - loss: 0.1350 - acc: 0.9568 - val_loss: 1.0427 - val_acc: 0.8030\n",
            "Epoch 17/20\n",
            "7982/7982 [==============================] - 1s 123us/step - loss: 0.1266 - acc: 0.9564 - val_loss: 1.0480 - val_acc: 0.7980\n",
            "Epoch 18/20\n",
            "7982/7982 [==============================] - 1s 122us/step - loss: 0.1194 - acc: 0.9574 - val_loss: 1.0332 - val_acc: 0.8060\n",
            "Epoch 19/20\n",
            "7982/7982 [==============================] - 1s 120us/step - loss: 0.1171 - acc: 0.9575 - val_loss: 1.0741 - val_acc: 0.7990\n",
            "Epoch 20/20\n",
            "7982/7982 [==============================] - 1s 121us/step - loss: 0.1180 - acc: 0.9562 - val_loss: 1.0891 - val_acc: 0.8090\n"
          ],
          "name": "stdout"
        }
      ]
    }
  ]
}